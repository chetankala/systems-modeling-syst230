{
 "cells": [
  {
   "cell_type": "code",
   "execution_count": null,
   "id": "6e9c75c5-e34d-45da-a522-e11a99cfa2ad",
   "metadata": {},
   "outputs": [],
   "source": [
    "class ClassName:\n",
    "    # statement_1\n",
    "    .\n",
    "    .\n",
    "    .\n",
    "    # statement_n\n",
    "    \n",
    "    Myclass.Myattributes"
   ]
  },
  {
   "cell_type": "code",
   "execution_count": 14,
   "id": "9aafe2f7-11a4-426c-97f4-6320848fbd8c",
   "metadata": {},
   "outputs": [],
   "source": [
    "class Student:\n",
    "    \n",
    "    def __init__(self, name):\n",
    "        self.name = name\n",
    "        \n",
    "    att_1 = \"A+\"\n",
    "    att_2 = \"23\"\n",
    "    att_3 = \"system engineering\"\n",
    "    \n",
    "    def report(self):\n",
    "        print(self.name + \"'s Grade:\" + self.att_1)\n",
    "        print(self.name + \"'s Age:\" + self.att_2)\n",
    "        print(self.name + \"'s Major:\" + self.att_3)"
   ]
  },
  {
   "cell_type": "code",
   "execution_count": 15,
   "id": "6114fd2c-d863-4f8a-bbc9-2c8e78f6e5ff",
   "metadata": {},
   "outputs": [
    {
     "name": "stdout",
     "output_type": "stream",
     "text": [
      "Ali's Grade:A+\n",
      "Ali's Age:23\n",
      "Ali's Major:system engineering\n"
     ]
    }
   ],
   "source": [
    "s = Student(\"Ali\")\n",
    "s.report()"
   ]
  },
  {
   "cell_type": "code",
   "execution_count": 11,
   "id": "b3185a67-5bb5-465d-b70a-d48f481379fc",
   "metadata": {},
   "outputs": [
    {
     "name": "stdout",
     "output_type": "stream",
     "text": [
      "Grade:  A+\n",
      "Age:  23\n",
      "Major:  system engineering\n"
     ]
    }
   ],
   "source": [
    "Ali.report()"
   ]
  },
  {
   "cell_type": "code",
   "execution_count": 4,
   "id": "fd38e2fe-263a-4c27-912d-6a67e38ab7c5",
   "metadata": {},
   "outputs": [
    {
     "data": {
      "text/plain": [
       "'A+'"
      ]
     },
     "execution_count": 4,
     "metadata": {},
     "output_type": "execute_result"
    }
   ],
   "source": [
    "# myobject.VariableName\n",
    "Ali.att_1"
   ]
  },
  {
   "cell_type": "code",
   "execution_count": 5,
   "id": "00088710-4557-4637-92d1-9f7d6b8ace92",
   "metadata": {},
   "outputs": [
    {
     "name": "stdout",
     "output_type": "stream",
     "text": [
      "Grade:  A+\n",
      "Age:  23\n",
      "Major:  system engineering\n"
     ]
    }
   ],
   "source": [
    "# myobject.method()\n",
    "Ali.report()"
   ]
  },
  {
   "cell_type": "code",
   "execution_count": 6,
   "id": "4edf48ec-f406-40b6-a9ce-9dc538244508",
   "metadata": {},
   "outputs": [
    {
     "name": "stdout",
     "output_type": "stream",
     "text": [
      "Grade:  A+\n",
      "Age:  23\n",
      "Major:  system engineering\n"
     ]
    }
   ],
   "source": [
    "# Myclass.method(myobject)\n",
    "Student.report(Ali)"
   ]
  },
  {
   "cell_type": "code",
   "execution_count": 16,
   "id": "d3e7fe02-d1ae-470f-9e42-7729a1f5ae27",
   "metadata": {},
   "outputs": [],
   "source": [
    "class Coffee:\n",
    "    def __init__(self, name, price):\n",
    "        self.name = name\n",
    "        self.price = price\n",
    "        "
   ]
  },
  {
   "cell_type": "code",
   "execution_count": 17,
   "id": "495cbf19-3ae5-4cdb-b1b4-95b2d57e7412",
   "metadata": {},
   "outputs": [
    {
     "name": "stdout",
     "output_type": "stream",
     "text": [
      "Espresso\n",
      "2\n"
     ]
    }
   ],
   "source": [
    "order = Coffee(\"Espresso\", 2)\n",
    "print(order.name)\n",
    "print(order.price)"
   ]
  },
  {
   "cell_type": "code",
   "execution_count": 19,
   "id": "a2baf04b-bdd1-4eff-a585-855395256ec0",
   "metadata": {},
   "outputs": [
    {
     "name": "stdout",
     "output_type": "stream",
     "text": [
      "Latte\n",
      "3\n"
     ]
    }
   ],
   "source": [
    "order_2 = Coffee(\"Latte\", 3)\n",
    "print(order_2.name)\n",
    "print(order_2.price)"
   ]
  },
  {
   "cell_type": "code",
   "execution_count": 20,
   "id": "f6976d31-a902-4fd0-b6f0-096a1f827cd9",
   "metadata": {},
   "outputs": [],
   "source": [
    "class Student:\n",
    "    \n",
    "    department = \"Engineering\"\n",
    "    \n",
    "    def __init__(self, grade, age, major):\n",
    "        self.grade = grade\n",
    "        self.age = age\n",
    "        self.major = major\n",
    "        "
   ]
  },
  {
   "cell_type": "code",
   "execution_count": 21,
   "id": "3508767b-64a4-4c2c-bd31-d26f318b4a90",
   "metadata": {},
   "outputs": [],
   "source": [
    "Ali = Student(\"A+\", \"23\", \"System Engineering\")\n",
    "Rob = Student(\"C+\", \"21\", \"operations research\")"
   ]
  },
  {
   "cell_type": "code",
   "execution_count": 22,
   "id": "9fdbffbe-a73b-422e-9d23-76588fce2b10",
   "metadata": {},
   "outputs": [
    {
     "name": "stdout",
     "output_type": "stream",
     "text": [
      "Ali details:\n",
      "Ali is in the Engineering department\n",
      "Grade: A+\n",
      "Age: 23\n",
      "Major:  System Engineering\n",
      "\n",
      "Rob details:\n",
      "Rob is in the Engineering department\n",
      "Grade: C+\n",
      "Age: 21\n",
      "Major:  operations research\n"
     ]
    }
   ],
   "source": [
    "print(\"Ali details:\")\n",
    "print(\"Ali is in the\", Ali.department, \"department\")\n",
    "print(\"Grade:\", Ali.grade)\n",
    "print(\"Age:\", Ali.age)\n",
    "print(\"Major: \", Ali.major)\n",
    "\n",
    "print(\"\\nRob details:\")\n",
    "print(\"Rob is in the\", Rob.department, \"department\")\n",
    "print(\"Grade:\", Rob.grade)\n",
    "print(\"Age:\", Rob.age)\n",
    "print(\"Major: \", Rob.major)\n"
   ]
  },
  {
   "cell_type": "code",
   "execution_count": 23,
   "id": "452523ff-ff24-4a25-8313-ad13d98fa9be",
   "metadata": {},
   "outputs": [
    {
     "name": "stdout",
     "output_type": "stream",
     "text": [
      "Engineering\n"
     ]
    }
   ],
   "source": [
    "print(Rob.department)"
   ]
  },
  {
   "cell_type": "code",
   "execution_count": 24,
   "id": "da0b09a2-8a9e-4fea-9a88-3b76b3224e7e",
   "metadata": {},
   "outputs": [],
   "source": [
    "class Student:\n",
    "    \n",
    "    def __init__(self, a, b):\n",
    "        self.a = a\n",
    "        self.b = b\n",
    "        \n",
    "    def avg(self):\n",
    "        return (self.a + self.b)/2\n",
    "    \n",
    "    "
   ]
  },
  {
   "cell_type": "code",
   "execution_count": 25,
   "id": "288dd336-eabc-47b3-b078-112e77644874",
   "metadata": {},
   "outputs": [
    {
     "name": "stdout",
     "output_type": "stream",
     "text": [
      "24.0\n"
     ]
    }
   ],
   "source": [
    "g = Student(25, 23)\n",
    "print(g.avg())"
   ]
  },
  {
   "cell_type": "code",
   "execution_count": 27,
   "id": "9db8b2ac-38d6-459d-b69f-89b6f7f03674",
   "metadata": {},
   "outputs": [],
   "source": [
    "# classmethod (function, arg 1, arg 2, .......)\n",
    "\n",
    "classmethod(function)\n",
    "@classmethod"
   ]
  },
  {
   "cell_type": "code",
   "execution_count": 33,
   "id": "88ba814d-1a60-4788-97dd-c365523a56a8",
   "metadata": {},
   "outputs": [],
   "source": [
    "class Student:\n",
    "    \n",
    "    name = \"Sophomore\"\n",
    "    \n",
    "    def __init__(self, a, b):\n",
    "        self.a = a\n",
    "        self.b = b\n",
    "        \n",
    "    @classmethod\n",
    "    def information(cls):\n",
    "        return cls.name \n",
    "    \n",
    "    @staticmethod\n",
    "    def addnum(a, b):\n",
    "        return a+b\n",
    "    "
   ]
  },
  {
   "cell_type": "code",
   "execution_count": 35,
   "id": "af17e0fc-4d6d-404e-a732-d3bdbabb58fb",
   "metadata": {},
   "outputs": [
    {
     "name": "stdout",
     "output_type": "stream",
     "text": [
      "Sophomore\n"
     ]
    },
    {
     "data": {
      "text/plain": [
       "25"
      ]
     },
     "execution_count": 35,
     "metadata": {},
     "output_type": "execute_result"
    }
   ],
   "source": [
    "print(Student.information())\n",
    "Student.addnum(10, 15)"
   ]
  },
  {
   "cell_type": "code",
   "execution_count": 32,
   "id": "41f9e4da-0d60-4dbe-ba7e-3e873a5d459c",
   "metadata": {},
   "outputs": [
    {
     "data": {
      "text/plain": [
       "'Sophomore'"
      ]
     },
     "execution_count": 32,
     "metadata": {},
     "output_type": "execute_result"
    }
   ],
   "source": [
    "Student(25, 23).information()"
   ]
  },
  {
   "cell_type": "code",
   "execution_count": 36,
   "id": "846cc467-2476-4e62-8e46-3bd2bd141199",
   "metadata": {},
   "outputs": [],
   "source": [
    "class Person:\n",
    "    def __init__(self, name, age):\n",
    "        self.name = name\n",
    "        self.age = age\n",
    "        \n",
    "    @staticmethod\n",
    "    def isAdult(age):\n",
    "        return age>18\n",
    "    "
   ]
  },
  {
   "cell_type": "code",
   "execution_count": 37,
   "id": "a96a235b-b51d-4329-b3f3-f6fc447b735a",
   "metadata": {},
   "outputs": [
    {
     "name": "stdout",
     "output_type": "stream",
     "text": [
      "Is person adult: False\n"
     ]
    }
   ],
   "source": [
    "print(\"Is person adult:\" , Person.isAdult(12))"
   ]
  },
  {
   "cell_type": "code",
   "execution_count": 38,
   "id": "ba93046a-a7d5-4608-9ef9-037d1ac432d0",
   "metadata": {},
   "outputs": [
    {
     "name": "stdout",
     "output_type": "stream",
     "text": [
      "Is person adult: True\n"
     ]
    }
   ],
   "source": [
    "print(\"Is person adult:\" , Person.isAdult(22))"
   ]
  },
  {
   "cell_type": "code",
   "execution_count": 39,
   "id": "87624a10-5d69-433f-b3b6-14436259048d",
   "metadata": {},
   "outputs": [],
   "source": [
    "from datetime import date\n",
    "\n",
    "class Person:\n",
    "    def __init__(self, name, age):\n",
    "        self.name = name\n",
    "        self.age = age\n",
    "        \n",
    "    @classmethod\n",
    "    def fromBirthYear(cls, name, year):\n",
    "        current_year = date.today().year\n",
    "        calculate_age = current_year - year\n",
    "        return cls(name, calculate_age)\n",
    "    \n",
    "    @staticmethod\n",
    "    def isAdult(age):\n",
    "        return age>18\n",
    "    "
   ]
  },
  {
   "cell_type": "code",
   "execution_count": 40,
   "id": "05ccdc32-a953-4db0-bf34-7eb3d428d187",
   "metadata": {},
   "outputs": [],
   "source": [
    "person_1 = Person.fromBirthYear(\"Ahmad\", 2005)\n",
    "person_2 = Person(\"Jack\", 21)"
   ]
  },
  {
   "cell_type": "code",
   "execution_count": 41,
   "id": "030e8afb-f700-43eb-b40e-08fe83825863",
   "metadata": {},
   "outputs": [
    {
     "name": "stdout",
     "output_type": "stream",
     "text": [
      "Name: Ahmad \n",
      "Age: 16\n",
      "Result: False\n",
      "Name: Jack \n",
      "Age: 21\n",
      "Result: True\n"
     ]
    }
   ],
   "source": [
    "print(\"Name:\", person_1.name, \"\\nAge:\", person_1.age)\n",
    "print(\"Result:\", person_1.isAdult(person_1.age))\n",
    "\n",
    "print(\"Name:\", person_2.name, \"\\nAge:\", person_2.age)\n",
    "print(\"Result:\", person_1.isAdult(person_2.age))"
   ]
  },
  {
   "cell_type": "code",
   "execution_count": null,
   "id": "fd3814af-c4bd-403d-b61f-093056aa4aa2",
   "metadata": {},
   "outputs": [],
   "source": []
  }
 ],
 "metadata": {
  "kernelspec": {
   "display_name": "Python 3",
   "language": "python",
   "name": "python3"
  },
  "language_info": {
   "codemirror_mode": {
    "name": "ipython",
    "version": 3
   },
   "file_extension": ".py",
   "mimetype": "text/x-python",
   "name": "python",
   "nbconvert_exporter": "python",
   "pygments_lexer": "ipython3",
   "version": "3.8.8"
  }
 },
 "nbformat": 4,
 "nbformat_minor": 5
}
