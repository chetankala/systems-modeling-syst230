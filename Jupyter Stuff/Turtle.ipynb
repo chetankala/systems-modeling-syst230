{
 "cells": [
  {
   "cell_type": "code",
   "execution_count": 1,
   "id": "4c3e28e7-a169-46c0-a838-e4f72d19e651",
   "metadata": {},
   "outputs": [],
   "source": [
    "from turtle import *\n",
    "\n",
    "\n"
   ]
  },
  {
   "cell_type": "code",
   "execution_count": 2,
   "id": "915c1575-537c-4aef-ab5d-e78e07ee5e04",
   "metadata": {},
   "outputs": [],
   "source": [
    "# We can draw a simple square by moving the turtle forward\n",
    "# and turning right a few times"
   ]
  },
  {
   "cell_type": "code",
   "execution_count": 3,
   "id": "83189466-9281-4bed-862d-23e15f008f00",
   "metadata": {},
   "outputs": [],
   "source": [
    "a_turtle = Turtle()\n",
    "side = 100\n",
    "angle = 90\n",
    "iterations = 5\n"
   ]
  },
  {
   "cell_type": "code",
   "execution_count": 4,
   "id": "93e651f7-27ed-40c1-9e87-56753801fb35",
   "metadata": {},
   "outputs": [],
   "source": [
    "begin_fill()\n",
    "for i in range(4):\n",
    "    a_turtle.forward(100)\n",
    "    a_turtle.right(90)\n",
    "    print(a_turtle.position())\n",
    "end_fill()"
   ]
  },
  {
   "cell_type": "code",
   "execution_count": 6,
   "id": "5b7d8a3b-f8ff-4d22-b4d7-84cc379096ad",
   "metadata": {},
   "outputs": [
    {
     "data": {
      "text/plain": [
       "(-0.00,-0.00)"
      ]
     },
     "execution_count": 6,
     "metadata": {},
     "output_type": "execute_result"
    }
   ],
   "source": [
    "# a_turtle.position()"
   ]
  },
  {
   "cell_type": "code",
   "execution_count": 7,
   "id": "6b5790c8-1b77-448e-ad10-87022b726093",
   "metadata": {},
   "outputs": [],
   "source": [
    "# a_turtle.forward(100)"
   ]
  },
  {
   "cell_type": "code",
   "execution_count": 8,
   "id": "65b0a440-e2a9-451e-8cad-a3e7c405bd9b",
   "metadata": {},
   "outputs": [
    {
     "data": {
      "text/plain": [
       "(100.00,0.00)"
      ]
     },
     "execution_count": 8,
     "metadata": {},
     "output_type": "execute_result"
    }
   ],
   "source": [
    "# a_turtle.position()"
   ]
  },
  {
   "cell_type": "code",
   "execution_count": 9,
   "id": "0091cd2f-e499-4b85-b433-d6a6f39b9110",
   "metadata": {},
   "outputs": [],
   "source": [
    "# a_turtle.right(90)"
   ]
  },
  {
   "cell_type": "code",
   "execution_count": 10,
   "id": "9cea7b17-b931-4bd6-9722-96eeeeb28a0e",
   "metadata": {},
   "outputs": [
    {
     "data": {
      "text/plain": [
       "(100.00,0.00)"
      ]
     },
     "execution_count": 10,
     "metadata": {},
     "output_type": "execute_result"
    }
   ],
   "source": [
    "# a_turtle.position()"
   ]
  },
  {
   "cell_type": "code",
   "execution_count": null,
   "id": "c2914c54-bc5f-49f4-b64a-8ab391754118",
   "metadata": {},
   "outputs": [],
   "source": []
  }
 ],
 "metadata": {
  "kernelspec": {
   "display_name": "Python 3",
   "language": "python",
   "name": "python3"
  },
  "language_info": {
   "codemirror_mode": {
    "name": "ipython",
    "version": 3
   },
   "file_extension": ".py",
   "mimetype": "text/x-python",
   "name": "python",
   "nbconvert_exporter": "python",
   "pygments_lexer": "ipython3",
   "version": "3.8.8"
  }
 },
 "nbformat": 4,
 "nbformat_minor": 5
}
