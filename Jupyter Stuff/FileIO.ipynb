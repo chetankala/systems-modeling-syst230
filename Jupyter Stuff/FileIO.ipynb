{
 "cells": [
  {
   "cell_type": "code",
   "execution_count": 2,
   "id": "7740de72-ee80-44c6-aaff-c6a85405258d",
   "metadata": {},
   "outputs": [
    {
     "name": "stdout",
     "output_type": "stream",
     "text": [
      "From:\n",
      "Return-Path:\n",
      "Recieved:\n",
      "\n"
     ]
    }
   ],
   "source": [
    "# Open a file for reading and appedning\n",
    "\n",
    "file_name = 'raza-short.txt'\n",
    "with open(file_name, 'r+') as f:\n",
    "    all_line = f.read()\n",
    "    a_list = all_line.split('\\n')\n",
    "    for a_line in a_list:\n",
    "        print(a_line)"
   ]
  },
  {
   "cell_type": "code",
   "execution_count": 3,
   "id": "ed4f2ca3-6869-4d2c-bd4e-739ce885f406",
   "metadata": {},
   "outputs": [
    {
     "ename": "FileNotFoundError",
     "evalue": "[Errno 2] No such file or directory: 'grade.csv'",
     "output_type": "error",
     "traceback": [
      "\u001b[1;31m---------------------------------------------------------------------------\u001b[0m",
      "\u001b[1;31mFileNotFoundError\u001b[0m                         Traceback (most recent call last)",
      "\u001b[1;32m<ipython-input-3-99194643f4d3>\u001b[0m in \u001b[0;36m<module>\u001b[1;34m\u001b[0m\n\u001b[0;32m      1\u001b[0m \u001b[0mfile_name\u001b[0m \u001b[1;33m=\u001b[0m \u001b[1;34m'grade.csv'\u001b[0m\u001b[1;33m\u001b[0m\u001b[1;33m\u001b[0m\u001b[0m\n\u001b[1;32m----> 2\u001b[1;33m \u001b[1;32mwith\u001b[0m \u001b[0mopen\u001b[0m\u001b[1;33m(\u001b[0m\u001b[0mfile_name\u001b[0m\u001b[1;33m,\u001b[0m \u001b[1;34m'r+'\u001b[0m\u001b[1;33m)\u001b[0m \u001b[1;32mas\u001b[0m \u001b[0mf\u001b[0m\u001b[1;33m:\u001b[0m\u001b[1;33m\u001b[0m\u001b[1;33m\u001b[0m\u001b[0m\n\u001b[0m\u001b[0;32m      3\u001b[0m     \u001b[0ma_single_line\u001b[0m \u001b[1;33m=\u001b[0m \u001b[0mf\u001b[0m\u001b[1;33m.\u001b[0m\u001b[0mreadline\u001b[0m\u001b[1;33m(\u001b[0m\u001b[1;33m)\u001b[0m\u001b[1;33m\u001b[0m\u001b[1;33m\u001b[0m\u001b[0m\n\u001b[0;32m      4\u001b[0m     \u001b[0mstripped_line\u001b[0m \u001b[1;33m=\u001b[0m \u001b[0ma_single_line\u001b[0m\u001b[1;33m.\u001b[0m\u001b[0mstrip\u001b[0m\u001b[1;33m(\u001b[0m\u001b[1;33m)\u001b[0m\u001b[1;33m\u001b[0m\u001b[1;33m\u001b[0m\u001b[0m\n\u001b[0;32m      5\u001b[0m     \u001b[0ma_list\u001b[0m \u001b[1;33m=\u001b[0m \u001b[0mstripped_line\u001b[0m\u001b[1;33m.\u001b[0m\u001b[0msplit\u001b[0m\u001b[1;33m(\u001b[0m\u001b[1;34m','\u001b[0m\u001b[1;33m)\u001b[0m\u001b[1;33m\u001b[0m\u001b[1;33m\u001b[0m\u001b[0m\n",
      "\u001b[1;31mFileNotFoundError\u001b[0m: [Errno 2] No such file or directory: 'grade.csv'"
     ]
    }
   ],
   "source": [
    "file_name = 'grade.csv'\n",
    "with open(file_name, 'r+') as f:\n",
    "    a_single_line = f.readline()\n",
    "    stripped_line = a_single_line.strip()\n",
    "    a_list = stripped_line.split(',')\n",
    "    print(a_list)"
   ]
  },
  {
   "cell_type": "code",
   "execution_count": 4,
   "id": "b888335f-71f9-49c6-8240-a3e6c7a76705",
   "metadata": {},
   "outputs": [
    {
     "ename": "FileNotFoundError",
     "evalue": "[Errno 2] No such file or directory: 'grade.csv'",
     "output_type": "error",
     "traceback": [
      "\u001b[1;31m---------------------------------------------------------------------------\u001b[0m",
      "\u001b[1;31mFileNotFoundError\u001b[0m                         Traceback (most recent call last)",
      "\u001b[1;32m<ipython-input-4-b58117cb5616>\u001b[0m in \u001b[0;36m<module>\u001b[1;34m\u001b[0m\n\u001b[0;32m      2\u001b[0m \u001b[1;33m\u001b[0m\u001b[0m\n\u001b[0;32m      3\u001b[0m \u001b[0mfile_name\u001b[0m \u001b[1;33m=\u001b[0m \u001b[1;34m'grade.csv'\u001b[0m\u001b[1;33m\u001b[0m\u001b[1;33m\u001b[0m\u001b[0m\n\u001b[1;32m----> 4\u001b[1;33m \u001b[1;32mwith\u001b[0m \u001b[0mopen\u001b[0m\u001b[1;33m(\u001b[0m\u001b[0mfile_name\u001b[0m\u001b[1;33m,\u001b[0m \u001b[1;34m'r'\u001b[0m\u001b[1;33m)\u001b[0m \u001b[1;32mas\u001b[0m \u001b[0mcsvfile\u001b[0m\u001b[1;33m:\u001b[0m\u001b[1;33m\u001b[0m\u001b[1;33m\u001b[0m\u001b[0m\n\u001b[0m\u001b[0;32m      5\u001b[0m     \u001b[0mgrade_reader\u001b[0m \u001b[1;33m=\u001b[0m \u001b[0mcsv\u001b[0m\u001b[1;33m.\u001b[0m\u001b[0mreader\u001b[0m\u001b[1;33m(\u001b[0m\u001b[0mcsvfile\u001b[0m\u001b[1;33m,\u001b[0m \u001b[0mdelimiter\u001b[0m\u001b[1;33m=\u001b[0m\u001b[1;34m','\u001b[0m\u001b[1;33m)\u001b[0m\u001b[1;33m\u001b[0m\u001b[1;33m\u001b[0m\u001b[0m\n\u001b[0;32m      6\u001b[0m     \u001b[0mprint\u001b[0m\u001b[1;33m(\u001b[0m\u001b[0mlen\u001b[0m\u001b[1;33m(\u001b[0m\u001b[0mgrades_reader\u001b[0m\u001b[1;33m)\u001b[0m\u001b[1;33m)\u001b[0m\u001b[1;33m\u001b[0m\u001b[1;33m\u001b[0m\u001b[0m\n",
      "\u001b[1;31mFileNotFoundError\u001b[0m: [Errno 2] No such file or directory: 'grade.csv'"
     ]
    }
   ],
   "source": [
    "import csv\n",
    "\n",
    "file_name = 'grade.csv'\n",
    "with open(file_name, 'r') as csvfile:\n",
    "    grade_reader = csv.reader(csvfile, delimiter=',')\n",
    "    print(len(grades_reader))\n",
    "    \n",
    "    row_num = 1\n",
    "    for row in grades_reader:\n",
    "        print('Row #{}:'.format(row_num), row)"
   ]
  },
  {
   "cell_type": "code",
   "execution_count": null,
   "id": "0d4ad13a-47a2-421c-9126-04fde76a867c",
   "metadata": {},
   "outputs": [],
   "source": [
    "import csv\n",
    "# Dictionary that maps student names to a list of scores\n",
    "grades = {}\n",
    "\n",
    "# Use with statement to guarantee file closure\n",
    "row_num = 1\n",
    "a_record = {}\n",
    "file_name = 'grade.csv'\n",
    "with open(file_name, 'r') as csvfile:\n",
    "    grade_reader = csv.reader(csvfile, delimiter=',')\n",
    "    first_row = True\n",
    "    for row in grade_reader:\n",
    "        # Skip the first row with coloumn names\n",
    "        if first_row:\n",
    "            first_row = False\n",
    "            print('This is the first row', row)\n",
    "            continue\n",
    "        \n",
    "        row_num += 1\n",
    "        LastName = row[0]\n",
    "        FirstName = row[1]\n",
    "        Username = row[2]\n",
    "        Avaliability = row[5]\n",
    "        \n",
    "        a_record.update({'Last': LastName, 'First': FirstName, 'User': Username})\n",
    "        a_list = row\n",
    "        print(\"Row #{}\".format(row_num), a_record)\n",
    "        print(\"Row #{}\".format(row_num), a_list)\n",
    "        \n",
    "        \n",
    "        \n",
    "        "
   ]
  }
 ],
 "metadata": {
  "kernelspec": {
   "display_name": "Python 3",
   "language": "python",
   "name": "python3"
  },
  "language_info": {
   "codemirror_mode": {
    "name": "ipython",
    "version": 3
   },
   "file_extension": ".py",
   "mimetype": "text/x-python",
   "name": "python",
   "nbconvert_exporter": "python",
   "pygments_lexer": "ipython3",
   "version": "3.8.8"
  }
 },
 "nbformat": 4,
 "nbformat_minor": 5
}
