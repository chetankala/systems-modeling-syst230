{
 "cells": [
  {
   "cell_type": "code",
   "execution_count": 1,
   "id": "6b170ea6-bad8-42d0-b040-be0f8f27f3af",
   "metadata": {},
   "outputs": [],
   "source": [
    "import pandas as pd\n",
    "from pandas import Series, DataFrame\n",
    "import numpy as np\n",
    "import matplotlib.pyplot as plt"
   ]
  },
  {
   "cell_type": "code",
   "execution_count": 2,
   "id": "a2b23bce-4787-44a9-bf21-bd3bdcfb58b9",
   "metadata": {},
   "outputs": [],
   "source": [
    "v_list = [4, 7, -5, 3, 9, 8]\n"
   ]
  },
  {
   "cell_type": "code",
   "execution_count": 6,
   "id": "5086f030-a4c1-4d35-96ab-9cab005c7d5c",
   "metadata": {},
   "outputs": [],
   "source": [
    "i_list = ['d', 'b', 'a', 'c', 'e', 'f']\n",
    "a_Series = pd.Series(v_list)\n"
   ]
  },
  {
   "cell_type": "code",
   "execution_count": 7,
   "id": "ad609625-bd0f-483c-b803-42245cbe7e35",
   "metadata": {},
   "outputs": [
    {
     "data": {
      "text/plain": [
       "0    4\n",
       "1    7\n",
       "2   -5\n",
       "3    3\n",
       "4    9\n",
       "5    8\n",
       "dtype: int64"
      ]
     },
     "execution_count": 7,
     "metadata": {},
     "output_type": "execute_result"
    }
   ],
   "source": [
    "a_Series"
   ]
  },
  {
   "cell_type": "code",
   "execution_count": 8,
   "id": "3d54ed57-9354-4297-aa7b-60da65e6d07f",
   "metadata": {},
   "outputs": [
    {
     "data": {
      "text/plain": [
       "2   -5\n",
       "3    3\n",
       "4    9\n",
       "dtype: int64"
      ]
     },
     "execution_count": 8,
     "metadata": {},
     "output_type": "execute_result"
    }
   ],
   "source": [
    "a_Series[2:5]"
   ]
  },
  {
   "cell_type": "code",
   "execution_count": 9,
   "id": "b0cab5ae-7d38-41b7-ab80-62e01e12d4d0",
   "metadata": {},
   "outputs": [
    {
     "data": {
      "text/plain": [
       "array([ 4,  7, -5,  3,  9,  8], dtype=int64)"
      ]
     },
     "execution_count": 9,
     "metadata": {},
     "output_type": "execute_result"
    }
   ],
   "source": [
    "a_Series.values"
   ]
  },
  {
   "cell_type": "code",
   "execution_count": 10,
   "id": "7d9a5657-b527-435c-b4f9-31b88092d167",
   "metadata": {},
   "outputs": [
    {
     "data": {
      "text/plain": [
       "RangeIndex(start=0, stop=6, step=1)"
      ]
     },
     "execution_count": 10,
     "metadata": {},
     "output_type": "execute_result"
    }
   ],
   "source": [
    "a_Series.index"
   ]
  },
  {
   "cell_type": "code",
   "execution_count": 11,
   "id": "678e5364-36fd-4c87-9ce8-fd9d3ecdc1a0",
   "metadata": {},
   "outputs": [
    {
     "data": {
      "text/plain": [
       "1    7\n",
       "2   -5\n",
       "3    3\n",
       "4    9\n",
       "5    8\n",
       "dtype: int64"
      ]
     },
     "execution_count": 11,
     "metadata": {},
     "output_type": "execute_result"
    }
   ],
   "source": [
    "type(a_Series)\n",
    "a_Series[1:10]"
   ]
  },
  {
   "cell_type": "code",
   "execution_count": 12,
   "id": "32306483-4e9f-4000-a936-528798605545",
   "metadata": {},
   "outputs": [
    {
     "data": {
      "text/plain": [
       "d    4\n",
       "b    7\n",
       "a   -5\n",
       "c    3\n",
       "e    9\n",
       "f    8\n",
       "dtype: int64"
      ]
     },
     "execution_count": 12,
     "metadata": {},
     "output_type": "execute_result"
    }
   ],
   "source": [
    "v_list = [4, 7, -5, 3, 9, 8]\n",
    "i_list = ['d', 'b', 'a', 'c', 'e', 'f']\n",
    "\n",
    "i_Series = pd.Series(v_list, index=i_list)\n",
    "i_Series"
   ]
  },
  {
   "cell_type": "code",
   "execution_count": 13,
   "id": "cb3d3ad2-c7c9-4d92-85f9-eb05c704a454",
   "metadata": {},
   "outputs": [
    {
     "data": {
      "text/plain": [
       "Index(['d', 'b', 'a', 'c', 'e', 'f'], dtype='object')"
      ]
     },
     "execution_count": 13,
     "metadata": {},
     "output_type": "execute_result"
    }
   ],
   "source": [
    "i_Series.index"
   ]
  },
  {
   "cell_type": "code",
   "execution_count": 14,
   "id": "7bfaffe2-8089-4f1e-a8f5-342ce30a5986",
   "metadata": {},
   "outputs": [
    {
     "data": {
      "text/plain": [
       "-5"
      ]
     },
     "execution_count": 14,
     "metadata": {},
     "output_type": "execute_result"
    }
   ],
   "source": [
    "i_Series['a']"
   ]
  },
  {
   "cell_type": "code",
   "execution_count": 15,
   "id": "b2cbac98-c7bc-4f77-a7f8-77d4edb01fcf",
   "metadata": {},
   "outputs": [
    {
     "data": {
      "text/plain": [
       "a   -5\n",
       "b    7\n",
       "c    3\n",
       "dtype: int64"
      ]
     },
     "execution_count": 15,
     "metadata": {},
     "output_type": "execute_result"
    }
   ],
   "source": [
    "i_Series[['a', 'b', 'c']]\n"
   ]
  },
  {
   "cell_type": "code",
   "execution_count": null,
   "id": "931297b8-eaa9-40c2-bea9-20141fe4045b",
   "metadata": {},
   "outputs": [],
   "source": []
  }
 ],
 "metadata": {
  "kernelspec": {
   "display_name": "Python 3",
   "language": "python",
   "name": "python3"
  },
  "language_info": {
   "codemirror_mode": {
    "name": "ipython",
    "version": 3
   },
   "file_extension": ".py",
   "mimetype": "text/x-python",
   "name": "python",
   "nbconvert_exporter": "python",
   "pygments_lexer": "ipython3",
   "version": "3.8.8"
  }
 },
 "nbformat": 4,
 "nbformat_minor": 5
}
