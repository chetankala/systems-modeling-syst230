{
 "cells": [
  {
   "cell_type": "code",
   "execution_count": 1,
   "id": "e7d933ea-0519-4c56-9a9e-c5832786a965",
   "metadata": {},
   "outputs": [],
   "source": [
    "class Person():\n",
    "    \n",
    "    def __init__(self, name):\n",
    "        self.name = name\n",
    "        \n",
    "    def getName(self):\n",
    "        return self.name\n",
    "    \n",
    "    def IsEmployee(self):\n",
    "        return \"is not Employee\"\n",
    "    \n",
    "class Employee(Person):\n",
    "    def IsEmployee(self):\n",
    "        return \"is Employee\"\n",
    "    \n",
    "    "
   ]
  },
  {
   "cell_type": "code",
   "execution_count": 2,
   "id": "5101f55e-a036-441a-abb5-e08581aaaebe",
   "metadata": {},
   "outputs": [],
   "source": [
    "e1 = Person(\"person_1\")\n",
    "e2 = Employee(\"person_2\")"
   ]
  },
  {
   "cell_type": "code",
   "execution_count": 3,
   "id": "742d29e2-3aa6-4034-a4cb-ca0183b8efac",
   "metadata": {},
   "outputs": [
    {
     "name": "stdout",
     "output_type": "stream",
     "text": [
      "person_1 is not Employee\n"
     ]
    }
   ],
   "source": [
    "print(e1.getName() + \" \" + e1.IsEmployee())"
   ]
  },
  {
   "cell_type": "code",
   "execution_count": 4,
   "id": "2c2f858f-21e1-4eea-b2ff-817dd238eed9",
   "metadata": {},
   "outputs": [
    {
     "name": "stdout",
     "output_type": "stream",
     "text": [
      "person_2 is Employee\n"
     ]
    }
   ],
   "source": [
    "print(e2.getName() + \" \" + e2.IsEmployee())"
   ]
  },
  {
   "cell_type": "code",
   "execution_count": 5,
   "id": "dad877b4-991c-4ada-acda-f37b8283e1cf",
   "metadata": {},
   "outputs": [],
   "source": [
    "class Person():\n",
    "    def __init__(self, name, id_number):\n",
    "        self.name = name\n",
    "        self.id_number = id_number\n",
    "        \n",
    "    def display(self):\n",
    "        print(self.name)\n",
    "        print(self.id_number)\n",
    "        \n",
    "class Employee(Person):\n",
    "    def __init__(self, name, id_number, salary):\n",
    "        Person.__init__(self, name, id_number)\n",
    "        self.salary = salary\n",
    "        self.email = self.name + \"@gmail.com\"\n",
    "        \n",
    "    def display(self):\n",
    "        print(self.name)\n",
    "        print(self.id_number)\n",
    "        print(self.salary)\n",
    "        print(self.email)\n",
    "        "
   ]
  },
  {
   "cell_type": "code",
   "execution_count": 6,
   "id": "262e1ae1-72a9-4fac-85e7-7a9bee8de4c0",
   "metadata": {},
   "outputs": [
    {
     "name": "stdout",
     "output_type": "stream",
     "text": [
      "John\n",
      "G12345678\n",
      "90000\n",
      "John@gmail.com\n"
     ]
    }
   ],
   "source": [
    "P = Employee(\"John\", \"G12345678\", \"90000\")\n",
    "P.display()"
   ]
  },
  {
   "cell_type": "code",
   "execution_count": 7,
   "id": "3d87a1f6-365b-4026-9409-ef12c4bf4b88",
   "metadata": {},
   "outputs": [
    {
     "name": "stdout",
     "output_type": "stream",
     "text": [
      "John@gmail.com\n"
     ]
    }
   ],
   "source": [
    "print(P.email)"
   ]
  },
  {
   "cell_type": "code",
   "execution_count": 8,
   "id": "06e2763d-3b50-4d75-8d8d-188671854e85",
   "metadata": {},
   "outputs": [],
   "source": [
    "class A:\n",
    "    def __init__(self, name):\n",
    "        self.name = name \n",
    "        \n",
    "class B(A):\n",
    "    def __init__(self, name, salary):\n",
    "        A.__init__(self, name)\n",
    "        self.salary = salary"
   ]
  },
  {
   "cell_type": "code",
   "execution_count": 9,
   "id": "fd9d1b66-b851-4d63-b254-96bf1c2fc3cd",
   "metadata": {},
   "outputs": [],
   "source": [
    "a = B(\"Ali\", \"90000\")"
   ]
  },
  {
   "cell_type": "code",
   "execution_count": 10,
   "id": "5ebbf467-0183-42ae-9060-7d57977b2d1b",
   "metadata": {},
   "outputs": [
    {
     "name": "stdout",
     "output_type": "stream",
     "text": [
      "Ali\n"
     ]
    }
   ],
   "source": [
    "print(a.name)"
   ]
  },
  {
   "cell_type": "code",
   "execution_count": 11,
   "id": "6c68cc88-fbd4-4b1c-b22d-4a562fbafb25",
   "metadata": {},
   "outputs": [],
   "source": [
    "class Parent:\n",
    "    def method1(self):\n",
    "        print(\"Parent Method\")\n",
    "        \n",
    "class Child(Parent):\n",
    "    def method1(self):\n",
    "        super().method1()\n",
    "        print(\"Child Method\")"
   ]
  },
  {
   "cell_type": "code",
   "execution_count": 12,
   "id": "cb5ef7ca-33df-4672-b3b3-7dca4837b7df",
   "metadata": {},
   "outputs": [
    {
     "name": "stdout",
     "output_type": "stream",
     "text": [
      "Parent Method\n",
      "Child Method\n"
     ]
    }
   ],
   "source": [
    "Ch = Child()\n",
    "Ch.method1()"
   ]
  },
  {
   "cell_type": "code",
   "execution_count": 13,
   "id": "eea4a714-2749-40a1-ab73-af6eb5a5bfd0",
   "metadata": {},
   "outputs": [],
   "source": [
    "class First_Name():\n",
    "    def __init__(self):\n",
    "        self.fname = \"John\"\n",
    "        \n",
    "class Last_Name():\n",
    "    def __init__(self):\n",
    "        self.lname = \"Smith\"\n",
    "        \n",
    "class Full_Name(First_Name, Last_Name):\n",
    "    def __init__(self):\n",
    "        First_Name.__init__(self)\n",
    "        Last_Name.__init__(self)\n",
    "        \n",
    "    def display(self):\n",
    "        print(self.fname, self.lname)\n",
    "        "
   ]
  },
  {
   "cell_type": "code",
   "execution_count": 14,
   "id": "285bd3d9-13f2-4546-8f34-920f1e3fea16",
   "metadata": {},
   "outputs": [
    {
     "name": "stdout",
     "output_type": "stream",
     "text": [
      "John Smith\n"
     ]
    }
   ],
   "source": [
    "P = Full_Name()\n",
    "P.display()"
   ]
  },
  {
   "cell_type": "code",
   "execution_count": 20,
   "id": "3b398fc2-454a-4e7d-9845-08228981087c",
   "metadata": {},
   "outputs": [],
   "source": [
    "class Base():\n",
    "    def __init__(self, name):\n",
    "        self.name = name\n",
    "        \n",
    "    def getName(self):\n",
    "        return self.name\n",
    "        \n",
    "class Child(Base):\n",
    "    def __init__(self, name, age):\n",
    "        Base.__init__(self, name)\n",
    "        self.age = age\n",
    "        \n",
    "    def getAge(self):\n",
    "        return self.age\n",
    "    \n",
    "class GrandChild(Child):\n",
    "    def __init__(self, name, age, id_number):\n",
    "        Child.__init__(self, name, age)\n",
    "        self.id_number = id_number\n",
    "        \n",
    "    def get_ID(self):\n",
    "        return self.id_number\n",
    "    "
   ]
  },
  {
   "cell_type": "code",
   "execution_count": 21,
   "id": "ab0437ef-46a2-4e7c-aaa8-48913696e02d",
   "metadata": {},
   "outputs": [],
   "source": [
    "GRC = GrandChild(\"John\", 30, \"G12345678\")"
   ]
  },
  {
   "cell_type": "code",
   "execution_count": 23,
   "id": "53a2edc6-e892-4d29-8b85-c575054da832",
   "metadata": {},
   "outputs": [
    {
     "name": "stdout",
     "output_type": "stream",
     "text": [
      "John 30 G12345678\n"
     ]
    }
   ],
   "source": [
    "print(GRC.getName(), GRC.getAge(), GRC.get_ID())"
   ]
  },
  {
   "cell_type": "code",
   "execution_count": 25,
   "id": "ce93a28e-b64c-4b7a-8096-e63873a5307f",
   "metadata": {},
   "outputs": [
    {
     "name": "stdout",
     "output_type": "stream",
     "text": [
      "False\n"
     ]
    }
   ],
   "source": [
    "print(issubclass(Base, GrandChild))"
   ]
  },
  {
   "cell_type": "code",
   "execution_count": 26,
   "id": "806e6a20-2e56-42f4-a5c0-0d31ebeafdcd",
   "metadata": {},
   "outputs": [],
   "source": [
    "# Dunder"
   ]
  },
  {
   "cell_type": "code",
   "execution_count": 27,
   "id": "760a4c81-c524-45ef-9a92-bd88db6a89a5",
   "metadata": {},
   "outputs": [
    {
     "name": "stdout",
     "output_type": "stream",
     "text": [
      "Execute the __init__ method\n"
     ]
    }
   ],
   "source": [
    "class InitClass:\n",
    "    def __init__(self):\n",
    "        print(\"Execute the __init__ method\")\n",
    "        \n",
    "Inc = InitClass()"
   ]
  },
  {
   "cell_type": "code",
   "execution_count": 35,
   "id": "bb301fac-be24-4d9e-84fe-cd460b80a5fe",
   "metadata": {},
   "outputs": [],
   "source": [
    "class SquareFunction:\n",
    "    def __init__(self, number):\n",
    "        self.number = number\n",
    "        \n",
    "    def sqr(self):\n",
    "        return self.number**2\n",
    "    \n",
    "    def __del__(self):\n",
    "        print(\"The selected instance is deleted\")"
   ]
  },
  {
   "cell_type": "code",
   "execution_count": 36,
   "id": "bf337832-588f-4646-910b-cdcb7b3ef010",
   "metadata": {},
   "outputs": [],
   "source": [
    "s = SquareFunction(10)"
   ]
  },
  {
   "cell_type": "code",
   "execution_count": 37,
   "id": "017c9703-062e-474a-91a9-5a0c9a3c98fb",
   "metadata": {},
   "outputs": [
    {
     "name": "stdout",
     "output_type": "stream",
     "text": [
      "Square of 10 is 100\n"
     ]
    }
   ],
   "source": [
    "print(\"Square of %i\" %s.number, \"is %i\" %s.sqr())"
   ]
  },
  {
   "cell_type": "code",
   "execution_count": 38,
   "id": "d6c1b33e-a446-4500-8b40-18ae666a430f",
   "metadata": {},
   "outputs": [
    {
     "name": "stdout",
     "output_type": "stream",
     "text": [
      "The selected instance is deleted\n"
     ]
    }
   ],
   "source": [
    "del s"
   ]
  },
  {
   "cell_type": "code",
   "execution_count": 39,
   "id": "f3cb5f18-3b4a-42fd-8ba4-3bbec1cb2d6c",
   "metadata": {},
   "outputs": [
    {
     "ename": "NameError",
     "evalue": "name 's' is not defined",
     "output_type": "error",
     "traceback": [
      "\u001b[1;31m---------------------------------------------------------------------------\u001b[0m",
      "\u001b[1;31mNameError\u001b[0m                                 Traceback (most recent call last)",
      "\u001b[1;32m<ipython-input-39-0ff1b7208845>\u001b[0m in \u001b[0;36m<module>\u001b[1;34m\u001b[0m\n\u001b[1;32m----> 1\u001b[1;33m \u001b[0mprint\u001b[0m\u001b[1;33m(\u001b[0m\u001b[0ms\u001b[0m\u001b[1;33m)\u001b[0m\u001b[1;33m\u001b[0m\u001b[1;33m\u001b[0m\u001b[0m\n\u001b[0m",
      "\u001b[1;31mNameError\u001b[0m: name 's' is not defined"
     ]
    }
   ],
   "source": [
    "print(s)"
   ]
  },
  {
   "cell_type": "code",
   "execution_count": 40,
   "id": "fc01bf8a-d84d-4f00-b390-5713cb2f80d7",
   "metadata": {},
   "outputs": [
    {
     "name": "stdout",
     "output_type": "stream",
     "text": [
      "Thank you John\n"
     ]
    }
   ],
   "source": [
    "class Mystring():\n",
    "    def __str__(self):\n",
    "        return \"John\"\n",
    "    \n",
    "print(\"Thank you %s\" %Mystring())"
   ]
  },
  {
   "cell_type": "code",
   "execution_count": 41,
   "id": "4aa7672f-1db1-429e-aecb-280728a8a4c9",
   "metadata": {},
   "outputs": [
    {
     "name": "stdout",
     "output_type": "stream",
     "text": [
      "3\n"
     ]
    }
   ],
   "source": [
    "num = 3\n",
    "num_s = str(num)\n",
    "print(num_s)"
   ]
  },
  {
   "cell_type": "code",
   "execution_count": 42,
   "id": "e7b9eba2-9553-48f0-87be-e389383354ba",
   "metadata": {},
   "outputs": [
    {
     "data": {
      "text/plain": [
       "str"
      ]
     },
     "execution_count": 42,
     "metadata": {},
     "output_type": "execute_result"
    }
   ],
   "source": [
    "type(num_s)"
   ]
  },
  {
   "cell_type": "code",
   "execution_count": null,
   "id": "25563a13-07e4-4c61-9203-ade175ccb41b",
   "metadata": {},
   "outputs": [],
   "source": [
    "== !=\n",
    "> < >=\n",
    "\n",
    "__eq__(self, other)\n"
   ]
  },
  {
   "cell_type": "code",
   "execution_count": 48,
   "id": "faf0762b-0033-4194-af2c-7bc4f9205f93",
   "metadata": {},
   "outputs": [],
   "source": [
    "class Person:\n",
    "    def __init__(self, first_name, last_name, age):\n",
    "        self.first_name = first_name\n",
    "        self.last_name = last_name\n",
    "        self.age = age\n",
    "        \n",
    "    def __eq__(self, other):\n",
    "        return self.age == other.age"
   ]
  },
  {
   "cell_type": "code",
   "execution_count": 49,
   "id": "8c75b3c4-c12e-4a3a-810a-9ffb3e5cf9e3",
   "metadata": {},
   "outputs": [],
   "source": [
    "person1 = Person(\"J\", \"S\", 25)\n",
    "person2 = Person(\"S\", \"P\", 23)\n",
    "person3 = Person(\"D\", \"H\", 25)"
   ]
  },
  {
   "cell_type": "code",
   "execution_count": 50,
   "id": "e2d0d25b-0552-4dca-b2a3-bae859e86d5f",
   "metadata": {},
   "outputs": [
    {
     "data": {
      "text/plain": [
       "True"
      ]
     },
     "execution_count": 50,
     "metadata": {},
     "output_type": "execute_result"
    }
   ],
   "source": [
    "person1 == person3"
   ]
  },
  {
   "cell_type": "code",
   "execution_count": null,
   "id": "49184637-b95f-4afc-9e8d-2f539536d2f5",
   "metadata": {},
   "outputs": [],
   "source": []
  }
 ],
 "metadata": {
  "kernelspec": {
   "display_name": "Python 3",
   "language": "python",
   "name": "python3"
  },
  "language_info": {
   "codemirror_mode": {
    "name": "ipython",
    "version": 3
   },
   "file_extension": ".py",
   "mimetype": "text/x-python",
   "name": "python",
   "nbconvert_exporter": "python",
   "pygments_lexer": "ipython3",
   "version": "3.8.8"
  }
 },
 "nbformat": 4,
 "nbformat_minor": 5
}
